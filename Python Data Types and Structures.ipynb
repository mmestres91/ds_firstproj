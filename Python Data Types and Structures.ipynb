{
 "cells": [
  {
   "cell_type": "code",
   "execution_count": null,
   "id": "08e55dc8",
   "metadata": {},
   "outputs": [],
   "source": [
    "# Python Data Types\n",
    "\n",
    "# Data types are the classification or categorization of data items. \n",
    "# It represents the kind of value that tells what operations can be performed on a particular data. \n",
    "# Since everything is an object in Python programming, \n",
    "# data types are actually classes and variables are instance (object) of these classes."
   ]
  },
  {
   "cell_type": "code",
   "execution_count": null,
   "id": "0ed38b02",
   "metadata": {},
   "outputs": [],
   "source": [
    "# Numeric Type"
   ]
  },
  {
   "cell_type": "code",
   "execution_count": null,
   "id": "a4b18631",
   "metadata": {},
   "outputs": [],
   "source": [
    "# In Python, numeric data type represent the data which has numeric value. \n",
    "# Numeric value can be integer, floating number or even complex numbers. \n",
    "# These values are defined as int, float and complex class in Python.\n",
    "\n",
    "    # Integers -  This value is represented by int class. \n",
    "    # It contains positive or negative whole numbers (without fraction or decimal). \n",
    "    # In Python there is no limit to how long an integer value can be.\n",
    "    \n",
    "    # Float - This value is represented by float class.\n",
    "    # It is specified by a decimal point. Optionally, the character e or E followed by a \n",
    "    # positive or negative integer may be appended to specify scientific notation.\n",
    "    \n",
    "    # Complex Numbers – Complex number is represented by complex class. \n",
    "    # It is specified as (real part) + (imaginary part)j.\n",
    "    \n",
    "    #Note – type() function is used to determine the type of data type."
   ]
  },
  {
   "cell_type": "code",
   "execution_count": 5,
   "id": "ce72834e",
   "metadata": {},
   "outputs": [
    {
     "name": "stdout",
     "output_type": "stream",
     "text": [
      "Type of a:  <class 'int'>\n",
      "\n",
      "Type of b:  <class 'float'>\n",
      "\n",
      "Type of c:  <class 'complex'>\n",
      "\n",
      "Type of d:  <class 'float'>\n"
     ]
    }
   ],
   "source": [
    "a = 5\n",
    "print(\"Type of a: \", type(a))\n",
    "  \n",
    "b = 5.0\n",
    "print(\"\\nType of b: \", type(b))\n",
    "  \n",
    "c = 4j\n",
    "print(\"\\nType of c: \", type(c))\n",
    "\n",
    "d = 5.0e5 \n",
    "print(\"\\nType of d: \", type(d))"
   ]
  },
  {
   "cell_type": "code",
   "execution_count": null,
   "id": "5d8c2c94",
   "metadata": {},
   "outputs": [],
   "source": [
    "# Sequence Type"
   ]
  },
  {
   "cell_type": "code",
   "execution_count": null,
   "id": "2a5536cf",
   "metadata": {},
   "outputs": [],
   "source": [
    "# In Python, sequence is the ordered collection of similar or different data types. \n",
    "# Sequences allows to store multiple values in an organized and efficient fashion.\n",
    "\n",
    "    # Strings - In Python, Strings are arrays of bytes representing Unicode characters. \n",
    "    # A string is a collection of one or more characters put in a single quote, double-quote or triple quote. \n",
    "    # In python there is no character data type, a character is a string of length one. It is represented by str class.  "
   ]
  },
  {
   "cell_type": "code",
   "execution_count": 7,
   "id": "13bf0f11",
   "metadata": {},
   "outputs": [
    {
     "name": "stdout",
     "output_type": "stream",
     "text": [
      "String with the use of Single Quotes: \n",
      "Welcome to the Geeks World\n",
      "\n",
      "String with the use of Double Quotes: \n",
      "I'm a Geek\n",
      "<class 'str'>\n",
      "\n",
      "String with the use of Triple Quotes: \n",
      "I'm a Geek and I live in a world of \"Geeks\"\n",
      "<class 'str'>\n",
      "\n",
      "Creating a multiline String: \n",
      "Geeks \n",
      "For \n",
      "Life\n"
     ]
    }
   ],
   "source": [
    "# Creating a String  \n",
    "# with single Quotes \n",
    "String1 = 'Welcome to the Geeks World'\n",
    "print(\"String with the use of Single Quotes: \") \n",
    "print(String1) \n",
    "    \n",
    "# Creating a String \n",
    "# with double Quotes \n",
    "String1 = \"I'm a Geek\"\n",
    "print(\"\\nString with the use of Double Quotes: \") \n",
    "print(String1) \n",
    "print(type(String1))\n",
    "    \n",
    "# Creating a String \n",
    "# with triple Quotes \n",
    "String1 = '''I'm a Geek and I live in a world of \"Geeks\"'''\n",
    "print(\"\\nString with the use of Triple Quotes: \") \n",
    "print(String1) \n",
    "print(type(String1))\n",
    "  \n",
    "# Creating String with triple \n",
    "# Quotes allows multiple lines \n",
    "String1 = '''Geeks \n",
    "For \n",
    "Life'''\n",
    "print(\"\\nCreating a multiline String: \") \n",
    "print(String1) "
   ]
  },
  {
   "cell_type": "code",
   "execution_count": null,
   "id": "bf6ca800",
   "metadata": {},
   "outputs": [],
   "source": [
    "    # Accessing elements of String\n",
    "    \n",
    "    # In Python, individual characters of a String can be assessed by using the method of indexing.\n",
    "    # Indexing allows negative address references to access characters from the back of the String,\n",
    "    # e.g. -1 refers to the last character, -2 refers to the second last character and so on."
   ]
  },
  {
   "cell_type": "code",
   "execution_count": 8,
   "id": "3b28cf2b",
   "metadata": {},
   "outputs": [
    {
     "name": "stdout",
     "output_type": "stream",
     "text": [
      "Initial String: \n",
      "GeeksForGeeks\n",
      "\n",
      "First character of String is: \n",
      "G\n",
      "\n",
      "Last character of String is: \n",
      "s\n"
     ]
    }
   ],
   "source": [
    "String1 = \"GeeksForGeeks\"\n",
    "print(\"Initial String: \") \n",
    "print(String1) \n",
    "    \n",
    "# Printing First character \n",
    "print(\"\\nFirst character of String is: \") \n",
    "print(String1[0]) \n",
    "    \n",
    "# Printing Last character \n",
    "print(\"\\nLast character of String is: \") \n",
    "print(String1[-1]) "
   ]
  },
  {
   "cell_type": "code",
   "execution_count": null,
   "id": "57d264ab",
   "metadata": {},
   "outputs": [],
   "source": [
    "    # Lists - Lists are just like the arrays, declared in other languages which is a ordered collection of data. \n",
    "    # It is very flexible as the items in a list do not need to be of the same type."
   ]
  },
  {
   "cell_type": "code",
   "execution_count": 9,
   "id": "7ac7f057",
   "metadata": {},
   "outputs": [
    {
     "name": "stdout",
     "output_type": "stream",
     "text": [
      "Initial blank List: \n",
      "[]\n",
      "\n",
      "List with the use of String: \n",
      "['GeeksForGeeks']\n",
      "\n",
      "List containing multiple values: \n",
      "Geeks\n",
      "Geeks\n",
      "\n",
      "Multi-Dimensional List: \n",
      "[['Geeks', 'For'], ['Geeks']]\n"
     ]
    }
   ],
   "source": [
    "# Creating a List \n",
    "List = [] \n",
    "print(\"Initial blank List: \") \n",
    "print(List) \n",
    "    \n",
    "# Creating a List with  \n",
    "# the use of a String \n",
    "List = ['GeeksForGeeks'] \n",
    "print(\"\\nList with the use of String: \") \n",
    "print(List) \n",
    "    \n",
    "# Creating a List with \n",
    "# the use of multiple values \n",
    "List = [\"Geeks\", \"For\", \"Geeks\"] \n",
    "print(\"\\nList containing multiple values: \") \n",
    "print(List[0])  \n",
    "print(List[2]) \n",
    "    \n",
    "# Creating a Multi-Dimensional List \n",
    "# (By Nesting a list inside a List) \n",
    "List = [['Geeks', 'For'], ['Geeks']] \n",
    "print(\"\\nMulti-Dimensional List: \") \n",
    "print(List) "
   ]
  },
  {
   "cell_type": "code",
   "execution_count": null,
   "id": "8fbfa727",
   "metadata": {},
   "outputs": [],
   "source": [
    "    # Accessing elements of List\n",
    "    \n",
    "    # In order to access the list items refer to the index number. \n",
    "    # Use the index operator [ ] to access an item in a list. \n",
    "    # In Python, negative sequence indexes represent positions from the end of the array. \n",
    "    # Instead of having to compute the offset as in List[len(List)-3], it is enough to just write List[-3]. \n",
    "    # Negative indexing means beginning from the end, -1 refers to the last item, -2 refers to the second-last item, \n",
    "    # etc."
   ]
  },
  {
   "cell_type": "code",
   "execution_count": 11,
   "id": "1079fc05",
   "metadata": {},
   "outputs": [
    {
     "name": "stdout",
     "output_type": "stream",
     "text": [
      "Accessing element from the list\n",
      "Geeks\n",
      "Geeks\n",
      "Accessing element using negative indexing\n",
      "Geeks\n",
      "Geeks\n",
      "3\n"
     ]
    }
   ],
   "source": [
    "# Creating a List with \n",
    "# the use of multiple values \n",
    "List = [\"Geeks\", \"For\", \"Geeks\"] \n",
    "    \n",
    "# accessing a element from the  \n",
    "# list using index number \n",
    "print(\"Accessing element from the list\") \n",
    "print(List[0])  \n",
    "print(List[2]) \n",
    "  \n",
    "# accessing a element using \n",
    "# negative indexing \n",
    "print(\"Accessing element using negative indexing\") \n",
    "    \n",
    "# print the last element of list \n",
    "print(List[-1]) \n",
    "    \n",
    "# print the third last element of list  \n",
    "print(List[-3])\n",
    "print(len(List))"
   ]
  },
  {
   "cell_type": "code",
   "execution_count": null,
   "id": "956e2d96",
   "metadata": {},
   "outputs": [],
   "source": [
    "    # Tuple\n",
    "    # Just like list, tuple is also an ordered collection of Python objects. \n",
    "    # The only difference between tuple and list is that tuples are immutable \n",
    "    # i.e. tuples cannot be modified after it is created. It is represented by tuple class.\n",
    "    \n",
    "    # Creating Tuple\n",
    "    # In Python, tuples are created by placing a sequence of values separated by ‘comma’ \n",
    "    # with or without the use of parentheses for grouping of the data sequence. \n",
    "    # Tuples can contain any number of elements and of any datatype (like strings, integers, list, etc.).\n",
    "\n",
    "    # Note: Tuples can also be created with a single element, but it is a bit tricky. \n",
    "    # Having one element in the parentheses is not sufficient, there must be a trailing ‘comma’ to make it a tuple."
   ]
  },
  {
   "cell_type": "code",
   "execution_count": 19,
   "id": "d5730429",
   "metadata": {},
   "outputs": [
    {
     "name": "stdout",
     "output_type": "stream",
     "text": [
      "(2,)\n",
      "<class 'tuple'>\n",
      "\n",
      "Tuple with the use of String: \n",
      "('Geeks', 'For')\n",
      "\n",
      "Tuple using List: \n",
      "(1, 2, 4, 5, 6)\n",
      "\n",
      "Tuple with the use of function: \n",
      "('G', 'e', 'e', 'k', 's')\n",
      "<class 'tuple'>\n",
      "\n",
      "Tuple with nested tuples: \n",
      "((0, 1, 2, 3), ('python', 'geek'))\n",
      "('M', 'a', 'r', 'k')\n"
     ]
    }
   ],
   "source": [
    "Tuple1 = (2,)\n",
    "print(Tuple1)\n",
    "print(type(Tuple1))\n",
    "\n",
    "Tuple1 = ('Geeks', 'For') \n",
    "print(\"\\nTuple with the use of String: \") \n",
    "print(Tuple1) \n",
    "    \n",
    "# Creating a Tuple with \n",
    "# the use of list \n",
    "list1 = [1, 2, 4, 5, 6] \n",
    "print(\"\\nTuple using List: \") \n",
    "print(tuple(list1)) \n",
    "  \n",
    "# Creating a Tuple with the \n",
    "# use of built-in function \n",
    "Tuple1 = tuple('Geeks') \n",
    "print(\"\\nTuple with the use of function: \") \n",
    "print(Tuple1)\n",
    "print(type(Tuple1))\n",
    "  \n",
    "# Creating a Tuple  \n",
    "# with nested tuples \n",
    "Tuple1 = (0, 1, 2, 3) \n",
    "Tuple2 = ('python', 'geek') \n",
    "Tuple3 = (Tuple1, Tuple2) \n",
    "print(\"\\nTuple with nested tuples: \") \n",
    "print(Tuple3) \n",
    "\n",
    "myname = tuple('Mark')\n",
    "print(myname)"
   ]
  },
  {
   "cell_type": "code",
   "execution_count": 22,
   "id": "bd1290af",
   "metadata": {},
   "outputs": [
    {
     "name": "stdout",
     "output_type": "stream",
     "text": [
      "(1, 2, 3, 4, 5)\n",
      "<class 'tuple'>\n"
     ]
    }
   ],
   "source": [
    "tuple1 = tuple([1, 2, 3, 4, 5])\n",
    "print(tuple1)\n",
    "print(type(tuple1))"
   ]
  },
  {
   "cell_type": "code",
   "execution_count": null,
   "id": "5cd0bed8",
   "metadata": {},
   "outputs": [],
   "source": [
    "    # Accessing elements of Tuple\n",
    "    # In order to access the tuple items refer to the index number. \n",
    "    # Use the index operator [ ] to access an item in a tuple. \n",
    "    # The index must be an integer. Nested tuples are accessed using nested indexing."
   ]
  },
  {
   "cell_type": "code",
   "execution_count": 23,
   "id": "39518d63",
   "metadata": {},
   "outputs": [
    {
     "name": "stdout",
     "output_type": "stream",
     "text": [
      "First element of tuple\n",
      "1\n",
      "\n",
      "Last element of tuple\n",
      "5\n",
      "\n",
      "Third last element of tuple\n",
      "3\n"
     ]
    }
   ],
   "source": [
    "tuple1 = tuple([1, 2, 3, 4, 5])\n",
    "  \n",
    "# Accessing element using indexing\n",
    "print(\"First element of tuple\")\n",
    "print(tuple1[0])\n",
    "  \n",
    "# Accessing element from last\n",
    "# negative indexing\n",
    "print(\"\\nLast element of tuple\")\n",
    "print(tuple1[-1])\n",
    "  \n",
    "print(\"\\nThird last element of tuple\")\n",
    "print(tuple1[-3])"
   ]
  },
  {
   "cell_type": "code",
   "execution_count": null,
   "id": "e0c54ee7",
   "metadata": {},
   "outputs": [],
   "source": [
    "# Boolean Type"
   ]
  },
  {
   "cell_type": "code",
   "execution_count": null,
   "id": "4d7665f6",
   "metadata": {},
   "outputs": [],
   "source": [
    "    # Data type with one of the two built-in values, \n",
    "    # True or False. Boolean objects that are equal to \n",
    "    # True are truthy (true), and those equal to False are \n",
    "    # falsy (false). But non-Boolean objects can be evaluated \n",
    "    # in Boolean context as well and determined to be true or false.\n",
    "    # It is denoted by the class bool.\n",
    "\n",
    "    # Note – True and False with capital ‘T’ and ‘F’ are\n",
    "    # valid booleans otherwise python will throw an error."
   ]
  },
  {
   "cell_type": "code",
   "execution_count": 26,
   "id": "21d0cc65",
   "metadata": {},
   "outputs": [
    {
     "name": "stdout",
     "output_type": "stream",
     "text": [
      "<class 'bool'>\n",
      "<class 'bool'>\n"
     ]
    }
   ],
   "source": [
    "print(type(True))\n",
    "print(type(False))"
   ]
  },
  {
   "cell_type": "code",
   "execution_count": null,
   "id": "f7276bfc",
   "metadata": {},
   "outputs": [],
   "source": [
    "# Set Type"
   ]
  },
  {
   "cell_type": "code",
   "execution_count": null,
   "id": "a35f4584",
   "metadata": {},
   "outputs": [],
   "source": [
    "    # In Python, Set is an unordered collection of data type that\n",
    "    # is iterable, mutable and has no duplicate elements. \n",
    "    # The order of elements in a set is undefined though it \n",
    "    # may consist of various elements.\n",
    "    \n",
    "    # The major advantage of using a set, as opposed to a list, \n",
    "    # is that it has a highly optimized method for checking whether \n",
    "    # a specific element is contained in the set.\n",
    "\n",
    "    # Creating Sets\n",
    "    \n",
    "    # Sets can be created by using the built-in set() \n",
    "    # function with an iterable object or a sequence \n",
    "    # by placing the sequence inside curly braces, \n",
    "    # separated by ‘comma’. Type of elements in a \n",
    "    # set need not be the same, various mixed-up data \n",
    "    # type values can also be passed to the set."
   ]
  },
  {
   "cell_type": "code",
   "execution_count": 27,
   "id": "c4d98df1",
   "metadata": {},
   "outputs": [
    {
     "name": "stdout",
     "output_type": "stream",
     "text": [
      "Initial blank Set: \n",
      "set()\n",
      "\n",
      "Set with the use of String: \n",
      "{'s', 'r', 'e', 'o', 'k', 'F', 'G'}\n",
      "\n",
      "Set with the use of List: \n",
      "{'For', 'Geeks'}\n",
      "\n",
      "Set with the use of Mixed Values\n",
      "{1, 2, 4, 'Geeks', 6, 'For'}\n"
     ]
    }
   ],
   "source": [
    "# Creating a Set \n",
    "set1 = set() \n",
    "print(\"Initial blank Set: \") \n",
    "print(set1) \n",
    "    \n",
    "# Creating a Set with  \n",
    "# the use of a String \n",
    "set1 = set(\"GeeksForGeeks\") \n",
    "print(\"\\nSet with the use of String: \") \n",
    "print(set1) \n",
    "  \n",
    "# Creating a Set with \n",
    "# the use of a List \n",
    "set1 = set([\"Geeks\", \"For\", \"Geeks\"]) \n",
    "print(\"\\nSet with the use of List: \") \n",
    "print(set1) \n",
    "  \n",
    "# Creating a Set with  \n",
    "# a mixed type of values \n",
    "# (Having numbers and strings) \n",
    "set1 = set([1, 2, 'Geeks', 4, 'For', 6, 'Geeks']) \n",
    "print(\"\\nSet with the use of Mixed Values\") \n",
    "print(set1) "
   ]
  },
  {
   "cell_type": "code",
   "execution_count": 37,
   "id": "5657e729",
   "metadata": {},
   "outputs": [
    {
     "name": "stdout",
     "output_type": "stream",
     "text": [
      "{'Yo', 'my', 'name', 'is', 'Mark'}\n"
     ]
    }
   ],
   "source": [
    "set1 = set([\"Yo\", \"my\", \"name\", \"is\", \"Mark\", \"Yo\"])\n",
    "print(set1)"
   ]
  },
  {
   "cell_type": "code",
   "execution_count": 38,
   "id": "a2a8650a",
   "metadata": {},
   "outputs": [
    {
     "name": "stdout",
     "output_type": "stream",
     "text": [
      "Yo\n",
      "my\n",
      "name\n",
      "is\n",
      "Mark\n"
     ]
    }
   ],
   "source": [
    "for i in set1:\n",
    "    print(i)"
   ]
  },
  {
   "cell_type": "code",
   "execution_count": 39,
   "id": "60a0d834",
   "metadata": {},
   "outputs": [
    {
     "name": "stdout",
     "output_type": "stream",
     "text": [
      "True\n"
     ]
    }
   ],
   "source": [
    "print(\"Mark\" in set1)"
   ]
  },
  {
   "cell_type": "code",
   "execution_count": null,
   "id": "1ce3ac8e",
   "metadata": {},
   "outputs": [],
   "source": [
    "# Dictionary Type"
   ]
  },
  {
   "cell_type": "code",
   "execution_count": null,
   "id": "b7902d47",
   "metadata": {},
   "outputs": [],
   "source": [
    "    # Dictionary in Python is an unordered collection of data \n",
    "    # values, used to store data values like a map, which unlike \n",
    "    # other Data Types that hold only single value as an element, \n",
    "    # Dictionary holds key:value pair. Key-value is provided in \n",
    "    # the dictionary to make it more optimized. Each key-value \n",
    "    # pair in a Dictionary is separated by a colon :, whereas \n",
    "    # each key is separated by a ‘comma’.\n",
    "    \n",
    "    # Creating Dictionary\n",
    "    # In Python, a Dictionary can be created by placing a sequence \n",
    "    # of elements within curly {} braces, separated by ‘comma’. \n",
    "    # Values in a dictionary can be of any datatype and can be \n",
    "    # duplicated, whereas keys can’t be repeated and must be \n",
    "    # immutable. Dictionary can also be created by the built-in \n",
    "    # function dict(). An empty dictionary can be created by \n",
    "    # just placing it to curly braces{}.\n",
    "\n",
    "    # Note – Dictionary keys are case sensitive, same name \n",
    "    # but different cases of Key will be treated distinctly."
   ]
  },
  {
   "cell_type": "code",
   "execution_count": 40,
   "id": "e247e46c",
   "metadata": {},
   "outputs": [
    {
     "name": "stdout",
     "output_type": "stream",
     "text": [
      "Empty Dictionary: \n",
      "{}\n",
      "\n",
      "Dictionary with the use of Integer Keys: \n",
      "{1: 'Geeks', 2: 'For', 3: 'Geeks'}\n",
      "\n",
      "Dictionary with the use of Mixed Keys: \n",
      "{'Name': 'Geeks', 1: [1, 2, 3, 4]}\n",
      "\n",
      "Dictionary with the use of dict(): \n",
      "{1: 'Geeks', 2: 'For', 3: 'Geeks'}\n",
      "\n",
      "Dictionary with each item as a pair: \n",
      "{1: 'Geeks', 2: 'For'}\n"
     ]
    }
   ],
   "source": [
    "Dict = {} \n",
    "print(\"Empty Dictionary: \") \n",
    "print(Dict) \n",
    "    \n",
    "# Creating a Dictionary  \n",
    "# with Integer Keys \n",
    "Dict = {1: 'Geeks', 2: 'For', 3: 'Geeks'} \n",
    "print(\"\\nDictionary with the use of Integer Keys: \") \n",
    "print(Dict) \n",
    "    \n",
    "# Creating a Dictionary  \n",
    "# with Mixed keys \n",
    "Dict = {'Name': 'Geeks', 1: [1, 2, 3, 4]} \n",
    "print(\"\\nDictionary with the use of Mixed Keys: \") \n",
    "print(Dict) \n",
    "    \n",
    "# Creating a Dictionary \n",
    "# with dict() method \n",
    "Dict = dict({1: 'Geeks', 2: 'For', 3:'Geeks'}) \n",
    "print(\"\\nDictionary with the use of dict(): \") \n",
    "print(Dict) \n",
    "    \n",
    "# Creating a Dictionary \n",
    "# with each item as a Pair \n",
    "Dict = dict([(1, 'Geeks'), (2, 'For')]) \n",
    "print(\"\\nDictionary with each item as a pair: \") \n",
    "print(Dict)"
   ]
  },
  {
   "cell_type": "code",
   "execution_count": null,
   "id": "df9611b8",
   "metadata": {},
   "outputs": [],
   "source": [
    "    # Accessing elements of Dictionary\n",
    "    # In order to access the items of a dictionary refer to \n",
    "    # its key name. Key can be used inside square brackets. \n",
    "    # There is also a method called get() that will also \n",
    "    # help in accessing the element from a dictionary."
   ]
  },
  {
   "cell_type": "code",
   "execution_count": 41,
   "id": "f1746716",
   "metadata": {},
   "outputs": [
    {
     "name": "stdout",
     "output_type": "stream",
     "text": [
      "Accessing a element using key:\n",
      "For\n",
      "Accessing a element using get:\n",
      "Geeks\n"
     ]
    }
   ],
   "source": [
    "# Creating a Dictionary  \n",
    "Dict = {1: 'Geeks', 'name': 'For', 3: 'Geeks'} \n",
    "    \n",
    "# accessing a element using key \n",
    "print(\"Accessing a element using key:\") \n",
    "print(Dict['name']) \n",
    "  \n",
    "# accessing a element using get() \n",
    "# method \n",
    "print(\"Accessing a element using get:\") \n",
    "print(Dict.get(3)) "
   ]
  },
  {
   "cell_type": "code",
   "execution_count": null,
   "id": "753d23bd",
   "metadata": {},
   "outputs": [],
   "source": []
  }
 ],
 "metadata": {
  "kernelspec": {
   "display_name": "Python 3",
   "language": "python",
   "name": "python3"
  },
  "language_info": {
   "codemirror_mode": {
    "name": "ipython",
    "version": 3
   },
   "file_extension": ".py",
   "mimetype": "text/x-python",
   "name": "python",
   "nbconvert_exporter": "python",
   "pygments_lexer": "ipython3",
   "version": "3.7.10"
  }
 },
 "nbformat": 4,
 "nbformat_minor": 5
}
